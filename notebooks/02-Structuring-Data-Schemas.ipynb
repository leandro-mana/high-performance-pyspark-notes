{
 "cells": [
  {
   "cell_type": "markdown",
   "metadata": {},
   "source": [
    "<img src=\"../img/schema_enforcement.png\" alt=\"Schema enforcement\" width=\"750\">"
   ]
  },
  {
   "cell_type": "code",
   "execution_count": 12,
   "metadata": {},
   "outputs": [],
   "source": [
    "from pyspark.sql import SparkSession\n",
    "from pyspark.sql.types import StructType, StructField, IntegerType, StringType\n",
    "from pyspark.errors import PySparkTypeError"
   ]
  },
  {
   "cell_type": "code",
   "execution_count": 13,
   "metadata": {},
   "outputs": [],
   "source": [
    "# Initialize Spark session\n",
    "spark = SparkSession.builder.appName(\"StructuringSchemaDefinition\").getOrCreate()\n",
    "\n",
    "# Set log level to ERROR to reduce verbosity\n",
    "spark.sparkContext.setLogLevel(\"ERROR\")"
   ]
  },
  {
   "cell_type": "code",
   "execution_count": 14,
   "metadata": {},
   "outputs": [
    {
     "name": "stdout",
     "output_type": "stream",
     "text": [
      "+---+-----+---+\n",
      "| id| name|age|\n",
      "+---+-----+---+\n",
      "|  1|Alice| 28|\n",
      "|  2|  Bob| 32|\n",
      "+---+-----+---+\n",
      "\n",
      "root\n",
      " |-- id: integer (nullable = true)\n",
      " |-- name: string (nullable = true)\n",
      " |-- age: integer (nullable = true)\n",
      "\n"
     ]
    }
   ],
   "source": [
    "# Define the schema\n",
    "schema = StructType([\n",
    "    StructField('id', IntegerType(), True),\n",
    "   \tStructField('name', StringType(), True),\n",
    "\tStructField('age', IntegerType(), True)\n",
    "]) \n",
    "\n",
    "# Create a DataFrame with the defined schema\n",
    "data = [\n",
    "    (1, 'Alice', 28),\n",
    "    (2, 'Bob', 32)\n",
    "]\n",
    "\n",
    "df = spark.createDataFrame(data, schema)\n",
    "df.show()\n",
    "\n",
    "# Validate schema\n",
    "df.printSchema()"
   ]
  },
  {
   "cell_type": "code",
   "execution_count": 15,
   "metadata": {},
   "outputs": [
    {
     "name": "stdout",
     "output_type": "stream",
     "text": [
      "Error while creating the DataFrame: `IntegerType()` can not accept object `28` in type `str`.\n"
     ]
    }
   ],
   "source": [
    "# Lets try another data set with a wrong data type:\n",
    "#   - The data set has an String for the third element corresponding to the column \"age\"\n",
    "#   - catching PySparkTypeError when creating the DataFrame\n",
    "# This proves that one good way to work on ETLs, its initially using a sample of data to clean the data and setup the\n",
    "# proper schema to use for later processes, and then when loading such data, enforcing the expected schema to know that\n",
    "# the data loaded has the expected column types, so in a subsequent ETL after the first clean process is to consume\n",
    "# an expected schema from a DataCatalog, and then enforce that schema on the data load to double check that the loaded data\n",
    "# is what's expected. \n",
    "data_2 = [\n",
    "    (1, 'Alice', \"28\"),\n",
    "    (2, 'Bob', \"32\")\n",
    "]\n",
    "\n",
    "try:\n",
    "    df_2 = spark.createDataFrame(data_2, schema)\n",
    "\n",
    "except PySparkTypeError as py_schema_error:\n",
    "    print(f\"Error while creating the DataFrame: {py_schema_error.message}\")\n",
    "\n",
    "# NOTE: in Exeptions instead of print() the standar is to setup a LOGGER and log by error displaying the message part\n",
    "# here print() is used just as an example.\n",
    "# i.e.: \"LOG.error(\"Error while creating the DataFrame: %s\", repr(py_schema_error.message))\""
   ]
  },
  {
   "cell_type": "code",
   "execution_count": 16,
   "metadata": {},
   "outputs": [],
   "source": [
    "# Stop Spark Session\n",
    "spark.stop()"
   ]
  }
 ],
 "metadata": {
  "kernelspec": {
   "display_name": "high-performance-pyspark-IpMtr_Fy",
   "language": "python",
   "name": "python3"
  },
  "language_info": {
   "codemirror_mode": {
    "name": "ipython",
    "version": 3
   },
   "file_extension": ".py",
   "mimetype": "text/x-python",
   "name": "python",
   "nbconvert_exporter": "python",
   "pygments_lexer": "ipython3",
   "version": "3.10.13"
  }
 },
 "nbformat": 4,
 "nbformat_minor": 2
}
